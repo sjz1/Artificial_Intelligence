{
 "cells": [
  {
   "cell_type": "markdown",
   "id": "fb85abc7",
   "metadata": {},
   "source": [
    "# 전처리"
   ]
  },
  {
   "cell_type": "code",
   "execution_count": 1,
   "id": "e3fc97db",
   "metadata": {},
   "outputs": [],
   "source": [
    "import numpy as np\n",
    "import csv\n",
    "#csv는 엑셀과 달리 , 를 통해 데이터를 구분"
   ]
  },
  {
   "cell_type": "code",
   "execution_count": 2,
   "id": "947f06bb",
   "metadata": {},
   "outputs": [],
   "source": [
    "#given cities\n",
    "cities = []\n",
    "#solution\n",
    "sol = []"
   ]
  },
  {
   "cell_type": "markdown",
   "id": "3489af1c",
   "metadata": {},
   "source": [
    "# Euclidean distance measuring function"
   ]
  },
  {
   "cell_type": "code",
   "execution_count": 3,
   "id": "3ae91d9c",
   "metadata": {},
   "outputs": [],
   "source": [
    "def distance(x,y):\n",
    "    dist = np.linalg.norm(np.array(x)- np.array(y))\n",
    "    return dist \n",
    "# np.linalg.norm -> L2 norm 벡터 p,q의 직선 거리 \n",
    "# (x^2 + y^2)^(1/2)"
   ]
  },
  {
   "cell_type": "markdown",
   "id": "ef18f197",
   "metadata": {},
   "source": [
    "# 데이터를 가져오기 및 확인"
   ]
  },
  {
   "cell_type": "code",
   "execution_count": 4,
   "id": "b6bac910",
   "metadata": {},
   "outputs": [
    {
     "name": "stdout",
     "output_type": "stream",
     "text": [
      "[760]\n",
      "[760, 21]\n",
      "[760, 21, 950]\n",
      "[760, 21, 950, 122]\n",
      "[760, 21, 950, 122, 807]\n",
      "[760, 21, 950, 122, 807]\n",
      "[760, 21, 950, 122, 807]\n",
      "[760, 21, 950, 122, 807]\n",
      "[760, 21, 950, 122, 807]\n",
      "#########################################################################\n",
      "[760, 21, 950, 122, 807, 4, 277, 423, 688, 241, 494, 605, 499, 527, 656]\n"
     ]
    }
   ],
   "source": [
    "with open('example_solution.csv', mode= 'r', newline = '') as solution:\n",
    "    \n",
    "    # mode r -> 읽기 모드이다\n",
    "    #csv의 행단위로 데이터를 출력\n",
    "    #각 line은 ㅣist형식으로 되어있다\n",
    "    #newline = '' 데이터가 띄어쓰기 없이 들어간다\n",
    "\n",
    "    #read solution sequence -> 즉 example_solution을 읽어드림\n",
    "    reader = csv.reader(solution)\n",
    "    for row in reader:\n",
    "        #print(row[0]) #0행의 숫자들\n",
    "        sol.append(int(row[0]))\n",
    "        if(len(sol) < 10):\n",
    "            print(sol[0:5])\n",
    "    print('#########################################################################')\n",
    "    print(sol[0:15])"
   ]
  },
  {
   "cell_type": "markdown",
   "id": "8bfdcd8d",
   "metadata": {},
   "source": [
    "# 1. get solution sequence and reorfering (sort from 0)"
   ]
  },
  {
   "cell_type": "code",
   "execution_count": 5,
   "id": "8a9de696",
   "metadata": {},
   "outputs": [
    {
     "name": "stdout",
     "output_type": "stream",
     "text": [
      "The index of 0 is : 189\n",
      "The front 0~20 is :  [0, 934, 200, 370, 524, 262, 982, 902, 71, 806, 744, 958, 430, 153, 81, 140, 786, 837, 634, 259]\n",
      "/////////////////////////////////////////////////////////////////////////////////////////////////////////////\n",
      "The back 0~20 is :  [760, 21, 950, 122, 807, 4, 277, 423, 688, 241, 494, 605, 499, 527, 656, 29, 872, 753, 165, 948]\n"
     ]
    }
   ],
   "source": [
    "with open('example_solution.csv', mode= 'r', newline = '') as solution:\n",
    "    \n",
    "    # mode r -> 읽기 모드이다\n",
    "    #csv의 행단위로 데이터를 출력\n",
    "    #각 line은 ㅣist형식으로 되어있다\n",
    "    #newline = '' 데이터가 띄어쓰기 없이 들어간다\n",
    "\n",
    "    #read solution sequence -> 즉 example_solution을 읽어드림\n",
    "    reader = csv.reader(solution)\n",
    "    for row in reader:\n",
    "        sol.append(int(row[0]))\n",
    "    print('The index of 0 is :',sol.index(0))    \n",
    "    #reordering solution sequence\n",
    "    idx = sol.index(0) # 0이라는 숫자의 index\n",
    "    \n",
    "    front = sol[idx:]\n",
    "    back = sol[0:idx]\n",
    "    \n",
    "    print('The front 0~20 is : ',front[0:20])\n",
    "    print('/////////////////////////////////////////////////////////////////////////////////////////////////////////////')\n",
    "    print('The back 0~20 is : ',back[0: 20])\n",
    "    sol = front + back\n",
    "    \n",
    "    #expand 0 city (start) for simplicity\n",
    "    sol.append(int(0))"
   ]
  },
  {
   "cell_type": "markdown",
   "id": "f15edb15",
   "metadata": {},
   "source": [
    "즉 0을 기준으로 앞과 뒤를 짤라서 0 부터 시작하게 끔 자르고 마지막은 0에 도달 해야 하니깐 0을 추가                            \n",
    "ex) 1 2 3 0 4 5 6             \n",
    "front = 0 4 5 6           \n",
    "back = 1 2 3           \n",
    "sol = 0 4 5 6 1 2 3         \n",
    "\n",
    "sol.append(int(0)) \n",
    "->최종 결과 0 4 5 6 1 2 3 0"
   ]
  },
  {
   "cell_type": "markdown",
   "id": "d80ca300",
   "metadata": {},
   "source": [
    "위의 예시에서는         \n",
    "0 의 index 값이 189 이므로     \n",
    "front 에 189 ~ 999 index에 해당하는 숫자가 들어가고        \n",
    "back 에 0 ~ 188 index에 해당하는 숫자가 들어간다"
   ]
  },
  {
   "cell_type": "markdown",
   "id": "b4065543",
   "metadata": {},
   "source": [
    "# 2. get TSP city map"
   ]
  },
  {
   "cell_type": "code",
   "execution_count": 6,
   "id": "08ce24f8",
   "metadata": {},
   "outputs": [
    {
     "name": "stdout",
     "output_type": "stream",
     "text": [
      "cities 에 들어간 원소의 개수 : 1000\n",
      "[['53.25009344431329', '22.444885209100597'], ['21.570928175048255', '17.44707561216037'], ['72.16107675668404', '85.88179688723211'], ['52.59628100814437', '68.0997652916171'], ['99.55503411642916', '89.03868014012214'], ['45.263493711035', '24.433107718919345'], ['51.65884282004931', '90.10642634366273'], ['89.7286579150431', '69.21655768344208'], ['39.00003159887097', '80.55196125207841'], ['35.59526184197473', '14.05610647225216'], ['66.19318558706838', '55.68426760836053'], ['34.1551559598477', '85.84359753107817'], ['37.75840849411198', '8.948084373549136'], ['65.16521495804488', '93.65696789745532'], ['42.69022506258199', '92.09116283653597'], ['34.978245803048665', '90.63114224147267'], ['31.624449741999662', '37.20161513918061'], ['64.27557457661524', '47.52318749669915'], ['83.64758869867107', '0.8456953312116822'], ['66.90344399989151', '50.71682553053572'], ['16.884423905642787', '87.22366700571314'], ['87.5480501416314', '69.49436954110595'], ['52.33278417340765', '47.50050160323029'], ['38.34965160669239', '74.01538577420033'], ['90.03244482085118', '29.950494631410272']]\n"
     ]
    }
   ],
   "source": [
    "with open('TSP.csv', mode = 'r', newline='') as tsp:\n",
    "    #마찬가지로 읽기 방식으로 TSP.csv를 가져온다 -> 0행에는 x좌표 1행에는 y 좌표가 들어 있음\n",
    "    \n",
    "    #read TSP city map\n",
    "    reader = csv.reader(tsp)\n",
    "    for row in reader: # -> 가로 축으로 읽으므로 각 열 별로[x,y] 형태로 들어가게 된다\n",
    "        cities.append(row)\n",
    "print('cities 에 들어간 원소의 개수 :',len(cities))\n",
    "print(cities[:25])"
   ]
  },
  {
   "cell_type": "markdown",
   "id": "e22798ca",
   "metadata": {},
   "source": [
    "# 3. evaluate solution cost"
   ]
  },
  {
   "cell_type": "code",
   "execution_count": 7,
   "id": "ea3f1ca9",
   "metadata": {},
   "outputs": [
    {
     "name": "stdout",
     "output_type": "stream",
     "text": [
      "final cost: 102629.4310080144\n"
     ]
    }
   ],
   "source": [
    "total_cost = 0\n",
    "\n",
    "for idx in range(len(sol)-1): #0~ 999 까지\n",
    "    \n",
    "    #get city positions\n",
    "    pos_city_1 = [float(cities[sol[idx]][0]), float(cities[sol[idx]][1])] #현재 node의 좌표를 float형으로 가져옴\n",
    "    pos_city_2 = [float(cities[sol[idx+1]][0]), float(cities[sol[idx+1]][1])] #다음 node의 좌표를 float형으로 가져옴\n",
    "    \n",
    "    #distance calculation\n",
    "    dist = distance(pos_city_1,pos_city_2) # 두 node 사이 의 거리를 구하여서\n",
    "    \n",
    "    #accumulation\n",
    "    total_cost += dist # 토탈에 추가\n",
    "    \n",
    "print('final cost: ' +str(total_cost))"
   ]
  },
  {
   "cell_type": "code",
   "execution_count": null,
   "id": "dbf4cbe0",
   "metadata": {},
   "outputs": [],
   "source": []
  },
  {
   "cell_type": "code",
   "execution_count": null,
   "id": "7dfc6a59",
   "metadata": {},
   "outputs": [],
   "source": []
  }
 ],
 "metadata": {
  "kernelspec": {
   "display_name": "Python 3",
   "language": "python",
   "name": "python3"
  },
  "language_info": {
   "codemirror_mode": {
    "name": "ipython",
    "version": 3
   },
   "file_extension": ".py",
   "mimetype": "text/x-python",
   "name": "python",
   "nbconvert_exporter": "python",
   "pygments_lexer": "ipython3",
   "version": "3.8.8"
  }
 },
 "nbformat": 4,
 "nbformat_minor": 5
}
